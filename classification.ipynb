{
 "cells": [
  {
   "cell_type": "code",
   "execution_count": 2,
   "id": "9e5e7e5f",
   "metadata": {},
   "outputs": [
    {
     "data": {
      "text/plain": [
       "'2.8.0'"
      ]
     },
     "execution_count": 2,
     "metadata": {},
     "output_type": "execute_result"
    }
   ],
   "source": [
    "import torch\n",
    "from torch import nn\n",
    "\n",
    "import pandas as pd\n",
    "import numpy as np\n",
    "import matplotlib.pyplot as plt\n",
    "\n",
    "torch.__version__"
   ]
  },
  {
   "cell_type": "code",
   "execution_count": null,
   "id": "fadd89cc",
   "metadata": {},
   "outputs": [],
   "source": [
    "# creating a dataset\n",
    "weights = 0.7\n",
    "bias = 0.3\n",
    "\n",
    "start = 0\n",
    "end = 1\n",
    "step = 0.02\n",
    "\n",
    "X = torch.arange(start, end, step).unsqueeze(dim=1)\n",
    "y = X * weights + bias\n"
   ]
  },
  {
   "cell_type": "code",
   "execution_count": 7,
   "id": "993b5f3b",
   "metadata": {},
   "outputs": [
    {
     "data": {
      "text/plain": [
       "(tensor([[0.0000],\n",
       "         [0.0200],\n",
       "         [0.0400],\n",
       "         [0.0600],\n",
       "         [0.0800]]),\n",
       " tensor([[0.7000],\n",
       "         [0.7060],\n",
       "         [0.7120],\n",
       "         [0.7180],\n",
       "         [0.7240]]))"
      ]
     },
     "execution_count": 7,
     "metadata": {},
     "output_type": "execute_result"
    }
   ],
   "source": [
    "X[:5], y[:5]"
   ]
  },
  {
   "cell_type": "code",
   "execution_count": 8,
   "id": "f1f9baa9",
   "metadata": {},
   "outputs": [
    {
     "data": {
      "text/plain": [
       "(50, 50)"
      ]
     },
     "execution_count": 8,
     "metadata": {},
     "output_type": "execute_result"
    }
   ],
   "source": [
    "len(X), len(y)"
   ]
  },
  {
   "cell_type": "code",
   "execution_count": 9,
   "id": "b64d6684",
   "metadata": {},
   "outputs": [
    {
     "data": {
      "text/plain": [
       "(40, 40, 10, 10)"
      ]
     },
     "execution_count": 9,
     "metadata": {},
     "output_type": "execute_result"
    }
   ],
   "source": [
    "# train test split\n",
    "train_split = int(0.8 * len(X))\n",
    "X_train, y_train = X[:train_split], y[:train_split]\n",
    "X_test, y_test = X[train_split:], y[train_split:]\n",
    "\n",
    "len(X_train), len(y_train), len(X_test), len(y_test)"
   ]
  },
  {
   "cell_type": "code",
   "execution_count": 33,
   "id": "5078c2d9",
   "metadata": {},
   "outputs": [],
   "source": [
    "# visulize the dataset by creating a function\n",
    "\n",
    "def plot_predictions(train_data=X_train,\n",
    "                     train_labels=y_train,\n",
    "                     test_data=X_test,\n",
    "                     test_labels=y_test,\n",
    "                     predictions=None):\n",
    "    plt.figure(figsize=(10, 7))\n",
    "    # plotting the tran data in blue\n",
    "    plt.scatter(train_data, train_labels, c=\"b\", s=4, label=\"Training data\")\n",
    "    # plotting the test data in green\n",
    "    plt.scatter(test_data, test_labels, c=\"g\", s=4, label=\"Test data\")\n",
    "    if predictions != None:\n",
    "        plt.scatter(test_data, predictions, c=\"r\", s=4, label=\"Predictions\")\n",
    "    plt.legend(prop={\"size\": 14});\n",
    "\n",
    "\n"
   ]
  },
  {
   "cell_type": "code",
   "execution_count": 34,
   "id": "dc853bdd",
   "metadata": {},
   "outputs": [
    {
     "data": {
      "image/png": "[encoded data removed]",
      "text/plain": [
       "<Figure size 1000x700 with 1 Axes>"
      ]
     },
     "metadata": {},
     "output_type": "display_data"
    }
   ],
   "source": [
    "plot_predictions()"
   ]
  },
  {
   "cell_type": "code",
   "execution_count": 23,
   "id": "1d89e0be",
   "metadata": {},
   "outputs": [],
   "source": [
    "# creating a linear regression model\n",
    "\n",
    "class LinearRegresionModel(nn.Module):\n",
    "    def __init__(self):\n",
    "        super().__init__()\n",
    "        self.weight = nn.Parameter(torch.randn(1,\n",
    "                                               requires_grad=True,\n",
    "                                               dtype=torch.float))\n",
    "        self.bias = nn.Parameter(torch.randn(1,\n",
    "                                             requires_grad=True,\n",
    "                                             dtype=torch.float))\n",
    "    def forward(self, x):\n",
    "            return self.weight * x + self.bias\n",
    "            "
   ]
  },
  {
   "cell_type": "code",
   "execution_count": 24,
   "id": "d5abe93f",
   "metadata": {},
   "outputs": [
    {
     "data": {
      "text/plain": [
       "LinearRegresionModel()"
      ]
     },
     "execution_count": 24,
     "metadata": {},
     "output_type": "execute_result"
    }
   ],
   "source": [
    "model_0 = LinearRegresionModel()\n",
    "model_0"
   ]
  },
  {
   "cell_type": "code",
   "execution_count": 25,
   "id": "cbbdcba2",
   "metadata": {},
   "outputs": [
    {
     "data": {
      "text/plain": [
       "OrderedDict([('weight', tensor([0.3367])), ('bias', tensor([0.1288]))])"
      ]
     },
     "execution_count": 25,
     "metadata": {},
     "output_type": "execute_result"
    }
   ],
   "source": [
    "model_0.state_dict()"
   ]
  },
  {
   "cell_type": "markdown",
   "id": "3cfe4c06",
   "metadata": {},
   "source": [
    "Checking the contents of the pytorch model"
   ]
  },
  {
   "cell_type": "code",
   "execution_count": 26,
   "id": "f8a7ffdb",
   "metadata": {},
   "outputs": [
    {
     "data": {
      "text/plain": [
       "[Parameter containing:\n",
       " tensor([0.3367], requires_grad=True),\n",
       " Parameter containing:\n",
       " tensor([0.1288], requires_grad=True)]"
      ]
     },
     "execution_count": 26,
     "metadata": {},
     "output_type": "execute_result"
    }
   ],
   "source": [
    "# create a random seed\n",
    "torch.manual_seed(42)\n",
    "\n",
    "list(model_0.parameters())"
   ]
  },
  {
   "cell_type": "code",
   "execution_count": 27,
   "id": "0b007711",
   "metadata": {},
   "outputs": [
    {
     "data": {
      "text/plain": [
       "(0.3, 0.7)"
      ]
     },
     "execution_count": 27,
     "metadata": {},
     "output_type": "execute_result"
    }
   ],
   "source": [
    "weights, bias"
   ]
  },
  {
   "cell_type": "code",
   "execution_count": 21,
   "id": "d5c02e8d",
   "metadata": {},
   "outputs": [
    {
     "data": {
      "text/plain": [
       "(tensor([[0.8000],\n",
       "         [0.8200],\n",
       "         [0.8400],\n",
       "         [0.8600],\n",
       "         [0.8800],\n",
       "         [0.9000],\n",
       "         [0.9200],\n",
       "         [0.9400],\n",
       "         [0.9600],\n",
       "         [0.9800]]),\n",
       " tensor([[0.9400],\n",
       "         [0.9460],\n",
       "         [0.9520],\n",
       "         [0.9580],\n",
       "         [0.9640],\n",
       "         [0.9700],\n",
       "         [0.9760],\n",
       "         [0.9820],\n",
       "         [0.9880],\n",
       "         [0.9940]]))"
      ]
     },
     "execution_count": 21,
     "metadata": {},
     "output_type": "execute_result"
    }
   ],
   "source": [
    "X_test, y_test"
   ]
  },
  {
   "cell_type": "code",
   "execution_count": 28,
   "id": "50a6ae01",
   "metadata": {},
   "outputs": [
    {
     "data": {
      "text/plain": [
       "tensor([[0.3982],\n",
       "        [0.4049],\n",
       "        [0.4116],\n",
       "        [0.4184],\n",
       "        [0.4251],\n",
       "        [0.4318],\n",
       "        [0.4386],\n",
       "        [0.4453],\n",
       "        [0.4520],\n",
       "        [0.4588]], grad_fn=<AddBackward0>)"
      ]
     },
     "execution_count": 28,
     "metadata": {},
     "output_type": "execute_result"
    }
   ],
   "source": [
    "y_preds = model_0(X_test)\n",
    "y_preds"
   ]
  },
  {
   "cell_type": "code",
   "execution_count": 29,
   "id": "6c2799c4",
   "metadata": {},
   "outputs": [
    {
     "data": {
      "text/plain": [
       "tensor([[0.3982],\n",
       "        [0.4049],\n",
       "        [0.4116],\n",
       "        [0.4184],\n",
       "        [0.4251],\n",
       "        [0.4318],\n",
       "        [0.4386],\n",
       "        [0.4453],\n",
       "        [0.4520],\n",
       "        [0.4588]])"
      ]
     },
     "execution_count": 29,
     "metadata": {},
     "output_type": "execute_result"
    }
   ],
   "source": [
    "with torch.inference_mode():\n",
    "    y_preds = model_0(X_test)\n",
    "y_preds"
   ]
  },
  {
   "cell_type": "code",
   "execution_count": 31,
   "id": "2b7943ef",
   "metadata": {},
   "outputs": [
    {
     "data": {
      "text/plain": [
       "tensor([[0.8000],\n",
       "        [0.8200],\n",
       "        [0.8400],\n",
       "        [0.8600],\n",
       "        [0.8800],\n",
       "        [0.9000],\n",
       "        [0.9200],\n",
       "        [0.9400],\n",
       "        [0.9600],\n",
       "        [0.9800]])"
      ]
     },
     "execution_count": 31,
     "metadata": {},
     "output_type": "execute_result"
    }
   ],
   "source": [
    "X_test"
   ]
  },
  {
   "cell_type": "code",
   "execution_count": 50,
   "id": "bd9e4601",
   "metadata": {},
   "outputs": [
    {
     "data": {
      "image/png": "[encoded data removed]",
      "text/plain": [
       "<Figure size 1000x700 with 1 Axes>"
      ]
     },
     "metadata": {},
     "output_type": "display_data"
    }
   ],
   "source": [
    "plot_predictions(predictions=y_preds)"
   ]
  },
  {
   "cell_type": "code",
   "execution_count": 51,
   "id": "c20bf317",
   "metadata": {},
   "outputs": [
    {
     "data": {
      "text/plain": [
       "OrderedDict([('weight', tensor([0.3018])), ('bias', tensor([0.6903]))])"
      ]
     },
     "execution_count": 51,
     "metadata": {},
     "output_type": "execute_result"
    }
   ],
   "source": [
    "model_0.state_dict()"
   ]
  },
  {
   "cell_type": "code",
   "execution_count": 52,
   "id": "41cb52e0",
   "metadata": {},
   "outputs": [],
   "source": [
    "# setup a loss function\n",
    "loss_fn = nn.L1Loss()\n",
    "\n",
    "# setup an optimizer (sctchastc gradient decent)\n",
    "optimizer = torch.optim.SGD(params=model_0.parameters(),\n",
    "                            lr=0.01)"
   ]
  },
  {
   "cell_type": "code",
   "execution_count": 53,
   "id": "90d51aa3",
   "metadata": {},
   "outputs": [
    {
     "name": "stdout",
     "output_type": "stream",
     "text": [
      "Epoch: 0| Loss: 0.008988435380160809 | Test loss: 0.00538221001625061\n",
      "OrderedDict([('weight', tensor([0.3057])), ('bias', tensor([0.7003]))])\n",
      "Epoch: 10| Loss: 0.008988435380160809 | Test loss: 0.00538221001625061\n",
      "OrderedDict([('weight', tensor([0.3057])), ('bias', tensor([0.7003]))])\n",
      "Epoch: 20| Loss: 0.008988435380160809 | Test loss: 0.00538221001625061\n",
      "OrderedDict([('weight', tensor([0.3057])), ('bias', tensor([0.7003]))])\n",
      "Epoch: 30| Loss: 0.008988435380160809 | Test loss: 0.00538221001625061\n",
      "OrderedDict([('weight', tensor([0.3057])), ('bias', tensor([0.7003]))])\n",
      "Epoch: 40| Loss: 0.008988435380160809 | Test loss: 0.00538221001625061\n",
      "OrderedDict([('weight', tensor([0.3057])), ('bias', tensor([0.7003]))])\n",
      "Epoch: 50| Loss: 0.008988435380160809 | Test loss: 0.00538221001625061\n",
      "OrderedDict([('weight', tensor([0.3057])), ('bias', tensor([0.7003]))])\n",
      "Epoch: 60| Loss: 0.008988435380160809 | Test loss: 0.00538221001625061\n",
      "OrderedDict([('weight', tensor([0.3057])), ('bias', tensor([0.7003]))])\n",
      "Epoch: 70| Loss: 0.008988435380160809 | Test loss: 0.00538221001625061\n",
      "OrderedDict([('weight', tensor([0.3057])), ('bias', tensor([0.7003]))])\n",
      "Epoch: 80| Loss: 0.008988435380160809 | Test loss: 0.00538221001625061\n",
      "OrderedDict([('weight', tensor([0.3057])), ('bias', tensor([0.7003]))])\n",
      "Epoch: 90| Loss: 0.008988435380160809 | Test loss: 0.00538221001625061\n",
      "OrderedDict([('weight', tensor([0.3057])), ('bias', tensor([0.7003]))])\n",
      "Epoch: 100| Loss: 0.008988435380160809 | Test loss: 0.00538221001625061\n",
      "OrderedDict([('weight', tensor([0.3057])), ('bias', tensor([0.7003]))])\n",
      "Epoch: 110| Loss: 0.008988435380160809 | Test loss: 0.00538221001625061\n",
      "OrderedDict([('weight', tensor([0.3057])), ('bias', tensor([0.7003]))])\n",
      "Epoch: 120| Loss: 0.008988435380160809 | Test loss: 0.00538221001625061\n",
      "OrderedDict([('weight', tensor([0.3057])), ('bias', tensor([0.7003]))])\n",
      "Epoch: 130| Loss: 0.008988435380160809 | Test loss: 0.00538221001625061\n",
      "OrderedDict([('weight', tensor([0.3057])), ('bias', tensor([0.7003]))])\n",
      "Epoch: 140| Loss: 0.008988435380160809 | Test loss: 0.00538221001625061\n",
      "OrderedDict([('weight', tensor([0.3057])), ('bias', tensor([0.7003]))])\n",
      "Epoch: 150| Loss: 0.008988435380160809 | Test loss: 0.00538221001625061\n",
      "OrderedDict([('weight', tensor([0.3057])), ('bias', tensor([0.7003]))])\n",
      "Epoch: 160| Loss: 0.008988435380160809 | Test loss: 0.00538221001625061\n",
      "OrderedDict([('weight', tensor([0.3057])), ('bias', tensor([0.7003]))])\n",
      "Epoch: 170| Loss: 0.008988435380160809 | Test loss: 0.00538221001625061\n",
      "OrderedDict([('weight', tensor([0.3057])), ('bias', tensor([0.7003]))])\n",
      "Epoch: 180| Loss: 0.008988435380160809 | Test loss: 0.00538221001625061\n",
      "OrderedDict([('weight', tensor([0.3057])), ('bias', tensor([0.7003]))])\n",
      "Epoch: 190| Loss: 0.008988435380160809 | Test loss: 0.00538221001625061\n",
      "OrderedDict([('weight', tensor([0.3057])), ('bias', tensor([0.7003]))])\n"
     ]
    }
   ],
   "source": [
    "\n",
    "torch.manual_seed(42)\n",
    "# an epoch is one loop through the data... (this is a hyperparameter becsause we set it ourselves)\n",
    "epochs = 200\n",
    "\n",
    "epoch_count = []\n",
    "loss_values = []\n",
    "test_loss_values = []\n",
    "\n",
    "\n",
    "### Training\n",
    "\n",
    "# 0. loop through the data\n",
    "for epoch in range(epochs):\n",
    "  # set the mode to training mode\n",
    "  model_0.train() # train mode in pytorch sets all parameters that require gradients to required gradients\n",
    "\n",
    "  # 1. Forward pass\n",
    "  y_pred = model_0(X_train)\n",
    "\n",
    "  # 2. Calculate the loss\n",
    "  loss = loss_fn(y_pred, y_train)\n",
    "\n",
    "  # 3. Optimizer zero grad\n",
    "  optimizer.zero_grad()\n",
    "\n",
    "  # 4. Perform back propogation on the loss with respect to the parameters of the model\n",
    "  loss.backward()\n",
    "\n",
    "  # 5. Step the optimizer (perform gradient descent)\n",
    "  optimizer.step() # by default how the optimizer changes will accumulate through the loop so.. we have to zero them above in step 3 for the next iteration of the loop\n",
    "\n",
    "  ## testing\n",
    "  model_0.state_dict()\n",
    "\n",
    "  ## testing\n",
    "  model_0.eval() # turns off different settings in the model not needed for evalutation/testing\n",
    "  with torch.inference_mode(): # this turns off gradinet tracking & a couple of more things behind the scenes\n",
    "\n",
    "    # 1. Do the forward pass\n",
    "    test_pred = model_0(X_test)\n",
    "\n",
    "    # 2. Calculate the loss\n",
    "    test_loss = loss_fn(test_pred, y_test)\n",
    "\n",
    "  # print out what's happening\n",
    "  if epoch % 10 == 0:\n",
    "    epoch_count.append(epoch)\n",
    "    loss_values.append(loss.item())\n",
    "    test_loss_values.append(test_loss.item())\n",
    "    print(f\"Epoch: {epoch}| Loss: {loss} | Test loss: {test_loss}\")\n",
    "    # print out model state_dict()\n",
    "    print(model_0.state_dict())"
   ]
  },
  {
   "cell_type": "code",
   "execution_count": 47,
   "id": "135752a4",
   "metadata": {},
   "outputs": [],
   "source": [
    "with torch.inference_mode():\n",
    "    y_preds_new = model_0(X_test)"
   ]
  },
  {
   "cell_type": "code",
   "execution_count": 48,
   "id": "23c15dad",
   "metadata": {},
   "outputs": [
    {
     "data": {
      "text/plain": [
       "(array([0.00898844, 0.00898844, 0.00898844, 0.00898844, 0.00898844,\n",
       "        0.00898844, 0.00898844, 0.00898844, 0.00898844, 0.00898844,\n",
       "        0.00898844, 0.00898844, 0.00898844, 0.00898844, 0.00898844,\n",
       "        0.00898844, 0.00898844, 0.00898844, 0.00898844, 0.00898844],\n",
       "       dtype=float32),\n",
       " [0.00538221001625061,\n",
       "  0.00538221001625061,\n",
       "  0.00538221001625061,\n",
       "  0.00538221001625061,\n",
       "  0.00538221001625061,\n",
       "  0.00538221001625061,\n",
       "  0.00538221001625061,\n",
       "  0.00538221001625061,\n",
       "  0.00538221001625061,\n",
       "  0.00538221001625061,\n",
       "  0.00538221001625061,\n",
       "  0.00538221001625061,\n",
       "  0.00538221001625061,\n",
       "  0.00538221001625061,\n",
       "  0.00538221001625061,\n",
       "  0.00538221001625061,\n",
       "  0.00538221001625061,\n",
       "  0.00538221001625061,\n",
       "  0.00538221001625061,\n",
       "  0.00538221001625061])"
      ]
     },
     "execution_count": 48,
     "metadata": {},
     "output_type": "execute_result"
    }
   ],
   "source": [
    "import numpy as np\n",
    "\n",
    "np.array(torch.tensor(loss_values).cpu().numpy()), test_loss_values"
   ]
  },
  {
   "cell_type": "code",
   "execution_count": 55,
   "id": "948d077e",
   "metadata": {},
   "outputs": [
    {
     "data": {
      "image/png": "[encoded data removed]",
      "text/plain": [
       "<Figure size 640x480 with 1 Axes>"
      ]
     },
     "metadata": {},
     "output_type": "display_data"
    }
   ],
   "source": [
    "import matplotlib.pyplot as plt\n",
    "\n",
    "plt.plot(epoch_count, loss_values, label='Train loss')\n",
    "plt.plot(epoch_count, test_loss_values, label='Test loss')\n",
    "plt.title(\"Training and Test Loss Curves\")\n",
    "plt.ylabel(\"Loss\")\n",
    "plt.xlabel(\"Epoch\")\n",
    "plt.legend()\n",
    "plt.show()"
   ]
  },
  {
   "cell_type": "code",
   "execution_count": null,
   "id": "787f9f8e",
   "metadata": {},
   "outputs": [],
   "source": []
  },
  {
   "cell_type": "code",
   "execution_count": null,
   "id": "05a95235",
   "metadata": {},
   "outputs": [],
   "source": []
  },
  {
   "cell_type": "code",
   "execution_count": null,
   "id": "a670a3f8",
   "metadata": {},
   "outputs": [],
   "source": []
  },
  {
   "cell_type": "code",
   "execution_count": null,
   "id": "f70544b5",
   "metadata": {},
   "outputs": [],
   "source": []
  }
 ],
 "metadata": {
  "kernelspec": {
   "display_name": ".venv",
   "language": "python",
   "name": "python3"
  },
  "language_info": {
   "codemirror_mode": {
    "name": "ipython",
    "version": 3
   },
   "file_extension": ".py",
   "mimetype": "text/x-python",
   "name": "python",
   "nbconvert_exporter": "python",
   "pygments_lexer": "ipython3",
   "version": "3.11.2"
  }
 },
 "nbformat": 4,
 "nbformat_minor": 5
}
