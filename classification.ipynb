{
 "cells": [
  {
   "cell_type": "code",
   "execution_count": 2,
   "id": "9e5e7e5f",
   "metadata": {},
   "outputs": [
    {
     "data": {
      "text/plain": [
       "'2.8.0'"
      ]
     },
     "execution_count": 2,
     "metadata": {},
     "output_type": "execute_result"
    }
   ],
   "source": [
    "import torch\n",
    "from torch import nn\n",
    "\n",
    "import pandas as pd\n",
    "import numpy as np\n",
    "import matplotlib.pyplot as plt\n",
    "\n",
    "torch.__version__"
   ]
  },
  {
   "cell_type": "code",
   "execution_count": null,
   "id": "fadd89cc",
   "metadata": {},
   "outputs": [],
   "source": [
    "# creating a dataset\n",
    "weights = 0.7\n",
    "bias = 0.3\n",
    "\n",
    "start = 0\n",
    "end = 1\n",
    "step = 0.02\n",
    "\n",
    "X = torch.arange(start, end, step).unsqueeze(dim=1)\n",
    "y = X * weights + bias\n"
   ]
  },
  {
   "cell_type": "code",
   "execution_count": 7,
   "id": "993b5f3b",
   "metadata": {},
   "outputs": [
    {
     "data": {
      "text/plain": [
       "(tensor([[0.0000],\n",
       "         [0.0200],\n",
       "         [0.0400],\n",
       "         [0.0600],\n",
       "         [0.0800]]),\n",
       " tensor([[0.7000],\n",
       "         [0.7060],\n",
       "         [0.7120],\n",
       "         [0.7180],\n",
       "         [0.7240]]))"
      ]
     },
     "execution_count": 7,
     "metadata": {},
     "output_type": "execute_result"
    }
   ],
   "source": [
    "X[:5], y[:5]"
   ]
  },
  {
   "cell_type": "code",
   "execution_count": 8,
   "id": "f1f9baa9",
   "metadata": {},
   "outputs": [
    {
     "data": {
      "text/plain": [
       "(50, 50)"
      ]
     },
     "execution_count": 8,
     "metadata": {},
     "output_type": "execute_result"
    }
   ],
   "source": [
    "len(X), len(y)"
   ]
  },
  {
   "cell_type": "code",
   "execution_count": 9,
   "id": "b64d6684",
   "metadata": {},
   "outputs": [
    {
     "data": {
      "text/plain": [
       "(40, 40, 10, 10)"
      ]
     },
     "execution_count": 9,
     "metadata": {},
     "output_type": "execute_result"
    }
   ],
   "source": [
    "# train test split\n",
    "train_split = int(0.8 * len(X))\n",
    "X_train, y_train = X[:train_split], y[:train_split]\n",
    "X_test, y_test = X[train_split:], y[train_split:]\n",
    "\n",
    "len(X_train), len(y_train), len(X_test), len(y_test)"
   ]
  },
  {
   "cell_type": "code",
   "execution_count": 33,
   "id": "5078c2d9",
   "metadata": {},
   "outputs": [],
   "source": [
    "# visulize the dataset by creating a function\n",
    "\n",
    "def plot_predictions(train_data=X_train,\n",
    "                     train_labels=y_train,\n",
    "                     test_data=X_test,\n",
    "                     test_labels=y_test,\n",
    "                     predictions=None):\n",
    "    plt.figure(figsize=(10, 7))\n",
    "    # plotting the tran data in blue\n",
    "    plt.scatter(train_data, train_labels, c=\"b\", s=4, label=\"Training data\")\n",
    "    # plotting the test data in green\n",
    "    plt.scatter(test_data, test_labels, c=\"g\", s=4, label=\"Test data\")\n",
    "    if predictions != None:\n",
    "        plt.scatter(test_data, predictions, c=\"r\", s=4, label=\"Predictions\")\n",
    "    plt.legend(prop={\"size\": 14});\n",
    "\n",
    "\n"
   ]
  },
  {
   "cell_type": "code",
   "execution_count": 34,
   "id": "dc853bdd",
   "metadata": {},
   "outputs": [
    {
     "data": {
      "image/png": "[encoded data removed]",
      "text/plain": [
       "<Figure size 1000x700 with 1 Axes>"
      ]
     },
     "metadata": {},
     "output_type": "display_data"
    }
   ],
   "source": [
    "plot_predictions()"
   ]
  },
  {
   "cell_type": "code",
   "execution_count": 23,
   "id": "1d89e0be",
   "metadata": {},
   "outputs": [],
   "source": [
    "# creating a linear regression model\n",
    "\n",
    "class LinearRegresionModel(nn.Module):\n",
    "    def __init__(self):\n",
    "        super().__init__()\n",
    "        self.weight = nn.Parameter(torch.randn(1,\n",
    "                                               requires_grad=True,\n",
    "                                               dtype=torch.float))\n",
    "        self.bias = nn.Parameter(torch.randn(1,\n",
    "                                             requires_grad=True,\n",
    "                                             dtype=torch.float))\n",
    "    def forward(self, x):\n",
    "            return self.weight * x + self.bias\n",
    "            "
   ]
  },
  {
   "cell_type": "code",
   "execution_count": 24,
   "id": "d5abe93f",
   "metadata": {},
   "outputs": [
    {
     "data": {
      "text/plain": [
       "LinearRegresionModel()"
      ]
     },
     "execution_count": 24,
     "metadata": {},
     "output_type": "execute_result"
    }
   ],
   "source": [
    "model_0 = LinearRegresionModel()\n",
    "model_0"
   ]
  },
  {
   "cell_type": "code",
   "execution_count": 25,
   "id": "cbbdcba2",
   "metadata": {},
   "outputs": [
    {
     "data": {
      "text/plain": [
       "OrderedDict([('weight', tensor([0.3367])), ('bias', tensor([0.1288]))])"
      ]
     },
     "execution_count": 25,
     "metadata": {},
     "output_type": "execute_result"
    }
   ],
   "source": [
    "model_0.state_dict()"
   ]
  },
  {
   "cell_type": "markdown",
   "id": "3cfe4c06",
   "metadata": {},
   "source": [
    "Checking the contents of the pytorch model"
   ]
  },
  {
   "cell_type": "code",
   "execution_count": 26,
   "id": "f8a7ffdb",
   "metadata": {},
   "outputs": [
    {
     "data": {
      "text/plain": [
       "[Parameter containing:\n",
       " tensor([0.3367], requires_grad=True),\n",
       " Parameter containing:\n",
       " tensor([0.1288], requires_grad=True)]"
      ]
     },
     "execution_count": 26,
     "metadata": {},
     "output_type": "execute_result"
    }
   ],
   "source": [
    "# create a random seed\n",
    "torch.manual_seed(42)\n",
    "\n",
    "list(model_0.parameters())"
   ]
  },
  {
   "cell_type": "code",
   "execution_count": 27,
   "id": "0b007711",
   "metadata": {},
   "outputs": [
    {
     "data": {
      "text/plain": [
       "(0.3, 0.7)"
      ]
     },
     "execution_count": 27,
     "metadata": {},
     "output_type": "execute_result"
    }
   ],
   "source": [
    "weights, bias"
   ]
  },
  {
   "cell_type": "code",
   "execution_count": 21,
   "id": "d5c02e8d",
   "metadata": {},
   "outputs": [
    {
     "data": {
      "text/plain": [
       "(tensor([[0.8000],\n",
       "         [0.8200],\n",
       "         [0.8400],\n",
       "         [0.8600],\n",
       "         [0.8800],\n",
       "         [0.9000],\n",
       "         [0.9200],\n",
       "         [0.9400],\n",
       "         [0.9600],\n",
       "         [0.9800]]),\n",
       " tensor([[0.9400],\n",
       "         [0.9460],\n",
       "         [0.9520],\n",
       "         [0.9580],\n",
       "         [0.9640],\n",
       "         [0.9700],\n",
       "         [0.9760],\n",
       "         [0.9820],\n",
       "         [0.9880],\n",
       "         [0.9940]]))"
      ]
     },
     "execution_count": 21,
     "metadata": {},
     "output_type": "execute_result"
    }
   ],
   "source": [
    "X_test, y_test"
   ]
  },
  {
   "cell_type": "code",
   "execution_count": 28,
   "id": "50a6ae01",
   "metadata": {},
   "outputs": [
    {
     "data": {
      "text/plain": [
       "tensor([[0.3982],\n",
       "        [0.4049],\n",
       "        [0.4116],\n",
       "        [0.4184],\n",
       "        [0.4251],\n",
       "        [0.4318],\n",
       "        [0.4386],\n",
       "        [0.4453],\n",
       "        [0.4520],\n",
       "        [0.4588]], grad_fn=<AddBackward0>)"
      ]
     },
     "execution_count": 28,
     "metadata": {},
     "output_type": "execute_result"
    }
   ],
   "source": [
    "y_preds = model_0(X_test)\n",
    "y_preds"
   ]
  },
  {
   "cell_type": "code",
   "execution_count": 29,
   "id": "6c2799c4",
   "metadata": {},
   "outputs": [
    {
     "data": {
      "text/plain": [
       "tensor([[0.3982],\n",
       "        [0.4049],\n",
       "        [0.4116],\n",
       "        [0.4184],\n",
       "        [0.4251],\n",
       "        [0.4318],\n",
       "        [0.4386],\n",
       "        [0.4453],\n",
       "        [0.4520],\n",
       "        [0.4588]])"
      ]
     },
     "execution_count": 29,
     "metadata": {},
     "output_type": "execute_result"
    }
   ],
   "source": [
    "with torch.inference_mode():\n",
    "    y_preds = model_0(X_test)\n",
    "y_preds"
   ]
  },
  {
   "cell_type": "code",
   "execution_count": 31,
   "id": "2b7943ef",
   "metadata": {},
   "outputs": [
    {
     "data": {
      "text/plain": [
       "tensor([[0.8000],\n",
       "        [0.8200],\n",
       "        [0.8400],\n",
       "        [0.8600],\n",
       "        [0.8800],\n",
       "        [0.9000],\n",
       "        [0.9200],\n",
       "        [0.9400],\n",
       "        [0.9600],\n",
       "        [0.9800]])"
      ]
     },
     "execution_count": 31,
     "metadata": {},
     "output_type": "execute_result"
    }
   ],
   "source": [
    "X_test"
   ]
  },
  {
   "cell_type": "code",
   "execution_count": 35,
   "id": "bd9e4601",
   "metadata": {},
   "outputs": [
    {
     "data": {
      "image/png": "[encoded data removed]",
      "text/plain": [
       "<Figure size 1000x700 with 1 Axes>"
      ]
     },
     "metadata": {},
     "output_type": "display_data"
    }
   ],
   "source": [
    "plot_predictions(predictions=y_preds)"
   ]
  },
  {
   "cell_type": "code",
   "execution_count": 36,
   "id": "c20bf317",
   "metadata": {},
   "outputs": [
    {
     "data": {
      "text/plain": [
       "OrderedDict([('weight', tensor([0.3367])), ('bias', tensor([0.1288]))])"
      ]
     },
     "execution_count": 36,
     "metadata": {},
     "output_type": "execute_result"
    }
   ],
   "source": [
    "model_0.state_dict()"
   ]
  },
  {
   "cell_type": "code",
   "execution_count": 37,
   "id": "41cb52e0",
   "metadata": {},
   "outputs": [],
   "source": [
    "# setup a loss function\n",
    "loss_fn = nn.L1Loss()\n",
    "\n",
    "# setup an optimizer (sctchastc gradient decent)\n",
    "optimizer = torch.optim.SGD(params=model_0.parameters(),\n",
    "                            lr=0.01)"
   ]
  },
  {
   "cell_type": "code",
   "execution_count": 38,
   "id": "90d51aa3",
   "metadata": {},
   "outputs": [
    {
     "name": "stdout",
     "output_type": "stream",
     "text": [
      "Epoch: 0 | Loss: 0.556881308555603 | Test loss: 0.5250651240348816\n",
      "OrderedDict([('weight', tensor([0.3406])), ('bias', tensor([0.1388]))])\n",
      "Epoch: 10 | Loss: 0.44167131185531616 | Test loss: 0.3903551697731018\n",
      "OrderedDict([('weight', tensor([0.3796])), ('bias', tensor([0.2388]))])\n",
      "Epoch: 20 | Loss: 0.32646140456199646 | Test loss: 0.2556453347206116\n",
      "OrderedDict([('weight', tensor([0.4186])), ('bias', tensor([0.3388]))])\n",
      "Epoch: 30 | Loss: 0.21125152707099915 | Test loss: 0.12093551456928253\n",
      "OrderedDict([('weight', tensor([0.4576])), ('bias', tensor([0.4388]))])\n",
      "Epoch: 40 | Loss: 0.09604163467884064 | Test loss: 0.014558088965713978\n",
      "OrderedDict([('weight', tensor([0.4966])), ('bias', tensor([0.5388]))])\n",
      "Epoch: 50 | Loss: 0.04522073268890381 | Test loss: 0.08176179975271225\n",
      "OrderedDict([('weight', tensor([0.5073])), ('bias', tensor([0.5973]))])\n",
      "Epoch: 60 | Loss: 0.03982054069638252 | Test loss: 0.08882363885641098\n",
      "OrderedDict([('weight', tensor([0.4950])), ('bias', tensor([0.6153]))])\n",
      "Epoch: 70 | Loss: 0.03630153089761734 | Test loss: 0.08398554474115372\n",
      "OrderedDict([('weight', tensor([0.4788])), ('bias', tensor([0.6248]))])\n",
      "Epoch: 80 | Loss: 0.03286397457122803 | Test loss: 0.076400026679039\n",
      "OrderedDict([('weight', tensor([0.4619])), ('bias', tensor([0.6323]))])\n",
      "Epoch: 90 | Loss: 0.02943551540374756 | Test loss: 0.06812767684459686\n",
      "OrderedDict([('weight', tensor([0.4447])), ('bias', tensor([0.6393]))])\n",
      "Epoch: 100 | Loss: 0.025997886434197426 | Test loss: 0.05985528230667114\n",
      "OrderedDict([('weight', tensor([0.4276])), ('bias', tensor([0.6463]))])\n",
      "Epoch: 110 | Loss: 0.022561991587281227 | Test loss: 0.05226977914571762\n",
      "OrderedDict([('weight', tensor([0.4106])), ('bias', tensor([0.6538]))])\n",
      "Epoch: 120 | Loss: 0.019133061170578003 | Test loss: 0.043997425585985184\n",
      "OrderedDict([('weight', tensor([0.3935])), ('bias', tensor([0.6608]))])\n",
      "Epoch: 130 | Loss: 0.01569424197077751 | Test loss: 0.035725049674510956\n",
      "OrderedDict([('weight', tensor([0.3763])), ('bias', tensor([0.6678]))])\n",
      "Epoch: 140 | Loss: 0.012260009534657001 | Test loss: 0.028139550238847733\n",
      "OrderedDict([('weight', tensor([0.3594])), ('bias', tensor([0.6753]))])\n",
      "Epoch: 150 | Loss: 0.008829416707158089 | Test loss: 0.0198671817779541\n",
      "OrderedDict([('weight', tensor([0.3422])), ('bias', tensor([0.6823]))])\n",
      "Epoch: 160 | Loss: 0.005390599370002747 | Test loss: 0.011594819836318493\n",
      "OrderedDict([('weight', tensor([0.3250])), ('bias', tensor([0.6893]))])\n",
      "Epoch: 170 | Loss: 0.0019580230582505465 | Test loss: 0.00400930643081665\n",
      "OrderedDict([('weight', tensor([0.3081])), ('bias', tensor([0.6968]))])\n",
      "Epoch: 180 | Loss: 0.008988435380160809 | Test loss: 0.00538221001625061\n",
      "OrderedDict([('weight', tensor([0.3057])), ('bias', tensor([0.7003]))])\n",
      "Epoch: 190 | Loss: 0.008988435380160809 | Test loss: 0.00538221001625061\n",
      "OrderedDict([('weight', tensor([0.3057])), ('bias', tensor([0.7003]))])\n"
     ]
    }
   ],
   "source": [
    "torch.manual_seed(42)\n",
    "epochs = 200\n",
    "\n",
    "epoch_count = []\n",
    "loss_values = []\n",
    "test_loss_values = []\n",
    "\n",
    "# Training\n",
    "\n",
    "# 0. Loop through the data\n",
    "for epoch in range(epochs):\n",
    "    model_0.train()\n",
    "\n",
    "    # 1. forward pass\n",
    "    y_pred = model_0(X_train)\n",
    "    # 1. calculate the loss\n",
    "    loss = loss_fn(y_pred, y_train)\n",
    "    # 3. Optimizer zero grad\n",
    "    optimizer.zero_grad()\n",
    "    # 4. backpropagation\n",
    "    loss.backward()\n",
    "    # 5. Optimizer step (gradient decsent)\n",
    "    optimizer.step()\n",
    "\n",
    "    # Testing\n",
    "    model_0.state_dict()\n",
    "    model_0.eval()\n",
    "    with torch.inference_mode():\n",
    "        # 1. forward pass\n",
    "        test_pred = model_0(X_test)\n",
    "        # 2. calculate the loss\n",
    "        test_loss = loss_fn(test_pred, y_test)\n",
    "    # print out what's happening\n",
    "    if epoch % 10 == 0:\n",
    "        epoch_count.append(epoch)\n",
    "        loss_values.append(loss.item())\n",
    "        print(f\"Epoch: {epoch} | Loss: {loss} | Test loss: {test_loss}\")\n",
    "        print(model_0.state_dict())\n"
   ]
  },
  {
   "cell_type": "code",
   "execution_count": null,
   "id": "135752a4",
   "metadata": {},
   "outputs": [],
   "source": []
  },
  {
   "cell_type": "code",
   "execution_count": null,
   "id": "23c15dad",
   "metadata": {},
   "outputs": [],
   "source": []
  },
  {
   "cell_type": "code",
   "execution_count": null,
   "id": "948d077e",
   "metadata": {},
   "outputs": [],
   "source": []
  },
  {
   "cell_type": "code",
   "execution_count": null,
   "id": "787f9f8e",
   "metadata": {},
   "outputs": [],
   "source": []
  },
  {
   "cell_type": "code",
   "execution_count": null,
   "id": "05a95235",
   "metadata": {},
   "outputs": [],
   "source": []
  },
  {
   "cell_type": "code",
   "execution_count": null,
   "id": "a670a3f8",
   "metadata": {},
   "outputs": [],
   "source": []
  },
  {
   "cell_type": "code",
   "execution_count": null,
   "id": "f70544b5",
   "metadata": {},
   "outputs": [],
   "source": []
  }
 ],
 "metadata": {
  "kernelspec": {
   "display_name": ".venv",
   "language": "python",
   "name": "python3"
  },
  "language_info": {
   "codemirror_mode": {
    "name": "ipython",
    "version": 3
   },
   "file_extension": ".py",
   "mimetype": "text/x-python",
   "name": "python",
   "nbconvert_exporter": "python",
   "pygments_lexer": "ipython3",
   "version": "3.11.2"
  }
 },
 "nbformat": 4,
 "nbformat_minor": 5
}
